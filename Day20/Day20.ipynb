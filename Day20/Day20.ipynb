{
  "nbformat": 4,
  "nbformat_minor": 0,
  "metadata": {
    "colab": {
      "name": "Day20.ipynb",
      "provenance": [],
      "collapsed_sections": [],
      "toc_visible": true
    },
    "kernelspec": {
      "name": "python3",
      "display_name": "Python 3"
    }
  },
  "cells": [
    {
      "cell_type": "markdown",
      "metadata": {
        "id": "zeOgvx3mmo2K"
      },
      "source": [
        "# Advent of Code 2015 - Day 20"
      ]
    },
    {
      "cell_type": "markdown",
      "metadata": {
        "id": "RSz-xwQIYfN6"
      },
      "source": [
        "## Part 1\r\n",
        "\r\n",
        "$E_1$ delievers $10$ gifts to $H_1, H_2, H_3, H_4, H_5, ...$ \\\\\r\n",
        "$E_2$ delievers $20$ gifts to $H_2, H_4, H_6, H_8, H_{10},...$ \\\\\r\n",
        "$E_3$ delievers $30$ gifts to $H_3, H_6, H_9, H_{12}, H_{15},...$ \\\\\r\n",
        "$E_4$ delievers $40$ gifts to $H_4, H_8, H_{12}, H_{16}, H_{20},...$ \\\\\r\n",
        "$E_5$ delievers $50$ gifts to $H_5, H_{10}, H_{15}, H_{20}, H_{25},...$ \\\\\r\n",
        "\r\n",
        "Looking at the houses:\r\n",
        "\r\n",
        "$H_1$ receives gifts from $E_1$ \\\\\r\n",
        "$H_2$ receives gifts from $E_1, E_2$ \\\\\r\n",
        "$H_3$ receives gifts from $E_1, E_3$ \\\\\r\n",
        "$H_4$ receives gifts from $E_1, E_2, E_4$ \\\\\r\n",
        "$H_5$ receives gifts from $E_1, E_5$ \\\\\r\n",
        "$H_6$ receives gifts from $E_1, E_2, E_3, E_6$ \\\\\r\n",
        "$H_7$ receives gifts from $E_1, E_7$ \\\\\r\n",
        "$H_8$ receives gifts from $E_1, E_2, E_4, E_8$ \\\\\r\n",
        "$H_9$ receives gifts from $E_1, E_3, E_9$ \\\\\r\n",
        "$H_{10}$ receives gifts from $E_1, E_2, E_5, E_{10}$ \\\\\r\n",
        "$H_{11}$ receives gifts from $E_1, E_{11}$ \\\\\r\n",
        "$H_{12}$ receives gifts from $E_1, E_2, E_3, E_4, E_6, E_{12}$ \\\\\r\n",
        "\r\n",
        "\r\n",
        "We can see that a house $H_{n}$ recieves gifts from all elves $E_m$ where $1 < m < n$ if $n$ is divisible by $m$. We can define a function $f(H_{n})$ that finds the number of gifts delievered to that house. \r\n",
        "\r\n",
        "\r\n",
        "\r\n"
      ]
    },
    {
      "cell_type": "code",
      "metadata": {
        "id": "XhG5KIp6fB3i"
      },
      "source": [
        "def gifts_delievered(house_number):\r\n",
        "  gift_counter = 0\r\n",
        "  for m in range(house_number):\r\n",
        "    if(house_number % (m + 1) == 0):\r\n",
        "      gift_counter += (m + 1) * 10\r\n",
        "  return gift_counter"
      ],
      "execution_count": 1,
      "outputs": []
    },
    {
      "cell_type": "code",
      "metadata": {
        "colab": {
          "base_uri": "https://localhost:8080/"
        },
        "id": "WYseFLugTH1q",
        "outputId": "142a815e-b07b-42c3-c66d-0ccb80aad0c4"
      },
      "source": [
        "import time\r\n",
        "\r\n",
        "start_time = time.time()\r\n",
        "\r\n",
        "target = 34000000\r\n",
        "target = 1000000\r\n",
        "\r\n",
        "house_number = 1 \r\n",
        "while(True):\r\n",
        "  received = gifts_delievered(house_number)\r\n",
        "  if(received >= target):\r\n",
        "    print('House Number:', house_number, 'Gifts Recieved:', received)\r\n",
        "    break\r\n",
        "  house_number += 1\r\n",
        "\r\n",
        "print(\"\\nExecution completed in {} seconds.\".format(time.time() - start_time))"
      ],
      "execution_count": 10,
      "outputs": [
        {
          "output_type": "stream",
          "text": [
            "House Number: 27720 Gifts Recieved: 1123200\n",
            "\n",
            "Execution completed in 36.81210136413574 seconds.\n"
          ],
          "name": "stdout"
        }
      ]
    },
    {
      "cell_type": "markdown",
      "metadata": {
        "id": "djGSPgKpkLJj"
      },
      "source": [
        "Unfortunately, the code above is too inefficient to give the results in a reasonable amount of time for a target of $34,000,000$. I will need to think more about this, but my first instinct was to notice that a house $H_n'$ only receives $10 ( 1 +  n')$ gifts if $n'$ is a prime number.\r\n",
        "\r\n",
        "**Lemma**: Every house following a prime-numbered house receives more presents than the prime-numbered house:\r\n",
        "\r\n",
        "$$\r\n",
        "f(H_n) > f(H_{n'}) \\quad \\text{for all} \\quad n > n'\r\n",
        "$$\r\n",
        "\r\n",
        "where $n'$ is a prime number.\r\n",
        "\r\n",
        "**Proof**: \r\n",
        "\r\n",
        "$$\r\n",
        "f(H_{n'}) = 10 + (10 \\times n') = 10 (1 + n')\r\n",
        "$$\r\n",
        "\r\n",
        "And\r\n",
        "\r\n",
        "$$\r\n",
        "f(H_{n}) = 10 + x + (10 \\times n) = 10 (1 + x + n)\r\n",
        "$$\r\n",
        "\r\n",
        "where $x$ is the number of gifts delievered by elves other than the $E_1$ and $E_n$. The follwoing is true for any $x \\geq 0$:\r\n",
        "\r\n",
        "$$\r\n",
        "(1 + x + n) > (1 + n')\r\n",
        "$$\r\n",
        "\r\n",
        "which implies \r\n",
        "\r\n",
        "$$\r\n",
        "f(H_n) > f(H_{n'})\r\n",
        "$$\r\n",
        "\r\n",
        "\r\n",
        "Going back to the problem, we need to find $n$ such that $f(H_n) \\geq 34000000$. We can find a prime number $n'$ such that \r\n",
        "\r\n",
        "$$\r\n",
        "f(H_{n'}) \\geq 34000000 \r\n",
        "$$\r\n",
        "\r\n",
        "$$\r\n",
        "10 + 10n' \\geq 34000000\r\n",
        "$$\r\n",
        "\r\n",
        "$$\r\n",
        "10n' \\geq 33999990\r\n",
        "$$\r\n",
        "\r\n",
        "$$\r\n",
        "n' \\geq 3399999\r\n",
        "$$\r\n",
        "\r\n",
        "\r\n",
        "This value serves as a bound on the highest possible value of $n$ that satisfies our problem since $f(H_n) > f(H_{n'})$ for all $n > n'$. The following is inspired by the [Sieve of Eratosthenes](https://en.wikipedia.org/wiki/Sieve_of_Eratosthenes). It is not a very efficient solution since we pre-compute number of gifts for many houses, but it finds the answer in ~$22$ seconds. \r\n",
        "\r\n",
        "\r\n",
        "I may come back and try to optimize it a bit more and perhaps make use of Python's lazy evaluation.\r\n",
        "\r\n"
      ]
    },
    {
      "cell_type": "code",
      "metadata": {
        "colab": {
          "base_uri": "https://localhost:8080/"
        },
        "id": "mpcvrDnJCf8X",
        "outputId": "cd65390b-2758-4910-d018-b42747eca084"
      },
      "source": [
        "import time\r\n",
        "\r\n",
        "start_time = time.time()\r\n",
        "\r\n",
        "limit = 3399999 + 1\r\n",
        "gifts_delievered_to_houses = [0] * limit\r\n",
        "\r\n",
        "for i in range(limit):\r\n",
        "  elf_num = i + 1\r\n",
        "  for j in range(i, limit, elf_num):\r\n",
        "    gifts_delievered_to_houses[j] += elf_num * 10\r\n",
        "\r\n",
        "# Find first instance that is >= than target\r\n",
        "target = 34000000\r\n",
        "for house_index, received in enumerate(gifts_delievered_to_houses):\r\n",
        "  if received >= target:\r\n",
        "    print('House Number:', house_index + 1, 'Gifts Recieved:', received)\r\n",
        "    break\r\n",
        "\r\n",
        "print(\"\\nExecution completed in {} seconds.\".format(time.time() - start_time))"
      ],
      "execution_count": 3,
      "outputs": [
        {
          "output_type": "stream",
          "text": [
            "House Number: 786240 Gifts Recieved: 34137600\n",
            "\n",
            "Execution completed in 21.91130566596985 seconds.\n"
          ],
          "name": "stdout"
        }
      ]
    },
    {
      "cell_type": "markdown",
      "metadata": {
        "id": "T653ee66YgYb"
      },
      "source": [
        "## Part 2\r\n",
        "\r\n",
        "\r\n"
      ]
    },
    {
      "cell_type": "code",
      "metadata": {
        "colab": {
          "base_uri": "https://localhost:8080/"
        },
        "id": "rioSCanaTIKZ",
        "outputId": "9e7dbabe-6cae-4a3f-b9c7-771ab24f5566"
      },
      "source": [
        "import time\r\n",
        "\r\n",
        "start_time = time.time()\r\n",
        "\r\n",
        "limit = 3399999 + 1\r\n",
        "gifts_delievered_to_houses = [0] * limit\r\n",
        "\r\n",
        "for i in range(limit):\r\n",
        "  elf_num = i + 1\r\n",
        "  counter = 0\r\n",
        "  for j in range(i, limit, elf_num):\r\n",
        "    gifts_delievered_to_houses[j] += elf_num * 11\r\n",
        "    counter += 1\r\n",
        "\r\n",
        "    if(counter == 50):\r\n",
        "      break\r\n",
        "\r\n",
        "# Find first instance that is >= than target\r\n",
        "target = 34000000\r\n",
        "for house_index, received in enumerate(gifts_delievered_to_houses):\r\n",
        "  if received >= target:\r\n",
        "    print('House Number:', house_index + 1, 'Gifts Recieved:', received)\r\n",
        "    break\r\n",
        "\r\n",
        "print(\"\\nExecution completed in {} seconds.\".format(time.time() - start_time))\r\n"
      ],
      "execution_count": 4,
      "outputs": [
        {
          "output_type": "stream",
          "text": [
            "House Number: 831600 Gifts Recieved: 35780206\n",
            "\n",
            "Execution completed in 9.19115424156189 seconds.\n"
          ],
          "name": "stdout"
        }
      ]
    },
    {
      "cell_type": "code",
      "metadata": {
        "id": "txlaoex9aSkh"
      },
      "source": [
        ""
      ],
      "execution_count": 4,
      "outputs": []
    }
  ]
}