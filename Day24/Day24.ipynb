{
  "nbformat": 4,
  "nbformat_minor": 0,
  "metadata": {
    "colab": {
      "name": "Day24.ipynb",
      "provenance": [],
      "collapsed_sections": [],
      "toc_visible": true
    },
    "kernelspec": {
      "name": "python3",
      "display_name": "Python 3"
    }
  },
  "cells": [
    {
      "cell_type": "markdown",
      "metadata": {
        "id": "zeOgvx3mmo2K"
      },
      "source": [
        "# Advent of Code 2015 - Day 24"
      ]
    },
    {
      "cell_type": "code",
      "metadata": {
        "id": "1mqqfpVRmo8Q",
        "colab": {
          "base_uri": "https://localhost:8080/"
        },
        "outputId": "f8cdb9f8-7f74-4a01-bb43-0effd5f706ed"
      },
      "source": [
        "data = []\r\n",
        "with open(\"inputs_day_24.txt\", \"r\") as f:\r\n",
        "  for line in f:\r\n",
        "    data.append(int(line.strip()))\r\n",
        "\r\n",
        "print(data)\r\n",
        "print(len(data))"
      ],
      "execution_count": 1,
      "outputs": [
        {
          "output_type": "stream",
          "text": [
            "[1, 2, 3, 5, 7, 13, 17, 19, 23, 29, 31, 37, 41, 43, 53, 59, 61, 67, 71, 73, 79, 83, 89, 97, 101, 103, 107, 109, 113]\n",
            "29\n"
          ],
          "name": "stdout"
        }
      ]
    },
    {
      "cell_type": "markdown",
      "metadata": {
        "id": "RSz-xwQIYfN6"
      },
      "source": [
        "## Part 1\r\n",
        "\r\n",
        "Treating the input as a set of integers, my first instinct is to create all possible 3-partitions of this set. Fortunately, such an algorithm is discussed by [Donald E. Knuth](https://en.wikipedia.org/wiki/Donald_Knuth) in [The Art of Computer Programming](https://en.wikipedia.org/wiki/The_Art_of_Computer_Programming) [Vol 4, Fasc 3B](http://www.cs.utsa.edu/~wagner/knuth/fasc3b.pdf). I found an [implementation in Python](https://codereview.stackexchange.com/questions/1526/finding-all-k-subset-partitions).\r\n",
        "\r\n",
        "After some experimentation, I found that the algorithm worked for the example but seemed to take forever for my actual input. The partition generating process needs to be modified such that is aware that the sum of the integers in each partition must be the same, so it does not waste time generating all partitions."
      ]
    },
    {
      "cell_type": "code",
      "metadata": {
        "colab": {
          "base_uri": "https://localhost:8080/"
        },
        "id": "lxjicKd91ADL",
        "outputId": "935bc19a-62a8-49e4-b323-419de2cce8de"
      },
      "source": [
        "bucket_size = sum(data)/3\r\n",
        "bucket_size"
      ],
      "execution_count": 2,
      "outputs": [
        {
          "output_type": "execute_result",
          "data": {
            "text/plain": [
              "512.0"
            ]
          },
          "metadata": {
            "tags": []
          },
          "execution_count": 2
        }
      ]
    },
    {
      "cell_type": "code",
      "metadata": {
        "colab": {
          "base_uri": "https://localhost:8080/"
        },
        "id": "UYyfGicW2O1_",
        "outputId": "2946e505-cb66-41c2-ec22-0f877c144216"
      },
      "source": [
        "from itertools import combinations\r\n",
        "\r\n",
        "found_size = -1\r\n",
        "for pick in range(1, len(data) + 1):\r\n",
        "  combs = combinations(data, pick)\r\n",
        "  for comb in combs:\r\n",
        "    if sum(comb) == bucket_size:\r\n",
        "      print(len(comb))\r\n",
        "      found_size = len(comb)\r\n",
        "      break\r\n",
        "\r\n",
        "  if(found_size != -1): break"
      ],
      "execution_count": 3,
      "outputs": [
        {
          "output_type": "stream",
          "text": [
            "6\n"
          ],
          "name": "stdout"
        }
      ]
    },
    {
      "cell_type": "markdown",
      "metadata": {
        "id": "4GSs4vOW3b6O"
      },
      "source": [
        "So, we found that a set of size $6$ can sum up to $512$ (a third of the total weight). We have not shown that we can create two other groups each of size $512$ yet, however. We know all the reaming items add up to $1024$, but there is no gurantee that they can be seperated into two $512$ groups. Let's forget about that for a second and assume we can. Looking at the numbers in the input, I have a hunch they probably could."
      ]
    },
    {
      "cell_type": "code",
      "metadata": {
        "colab": {
          "base_uri": "https://localhost:8080/"
        },
        "id": "6VN7WgUX4DgI",
        "outputId": "b0508a74-e970-42c1-e0e5-e87d3db44912"
      },
      "source": [
        "from functools import reduce\r\n",
        "qes = []\r\n",
        "combs = combinations(data, found_size)\r\n",
        "for comb in combs:\r\n",
        "    if sum(comb) == bucket_size:\r\n",
        "      qe = reduce(lambda x, y: x * y, comb)\r\n",
        "      qes.append(qe)\r\n",
        "\r\n",
        "min(qes)"
      ],
      "execution_count": 4,
      "outputs": [
        {
          "output_type": "execute_result",
          "data": {
            "text/plain": [
              "10723906903"
            ]
          },
          "metadata": {
            "tags": []
          },
          "execution_count": 4
        }
      ]
    },
    {
      "cell_type": "markdown",
      "metadata": {
        "id": "RtMN3PhR4ieA"
      },
      "source": [
        "Haha that worked! (I may come back and do it correctly.)"
      ]
    },
    {
      "cell_type": "markdown",
      "metadata": {
        "id": "T653ee66YgYb"
      },
      "source": [
        "## Part 2\r\n",
        "\r\n",
        "Seems like our assumption works here too. I am not complaining."
      ]
    },
    {
      "cell_type": "code",
      "metadata": {
        "id": "wnDmBLD5pSA9",
        "colab": {
          "base_uri": "https://localhost:8080/"
        },
        "outputId": "80c041c3-3148-4234-d517-1ae51ffdaf1a"
      },
      "source": [
        "bucket_size = sum(data)/4\r\n",
        "bucket_size"
      ],
      "execution_count": 5,
      "outputs": [
        {
          "output_type": "execute_result",
          "data": {
            "text/plain": [
              "384.0"
            ]
          },
          "metadata": {
            "tags": []
          },
          "execution_count": 5
        }
      ]
    },
    {
      "cell_type": "code",
      "metadata": {
        "colab": {
          "base_uri": "https://localhost:8080/"
        },
        "id": "v43boDQg4yUo",
        "outputId": "8de889bf-6611-476e-d0fd-ee6c71cbcf88"
      },
      "source": [
        "from itertools import combinations\r\n",
        "\r\n",
        "found_size = -1\r\n",
        "for pick in range(1, len(data) + 1):\r\n",
        "  combs = combinations(data, pick)\r\n",
        "  for comb in combs:\r\n",
        "    #remaining_numbers = [i for i in data if not i in comb]\r\n",
        "    if sum(comb) == bucket_size:\r\n",
        "      #print('Found', comb, 'remaining_numbers', remaining_numbers, 'sum remaining', sum(remaining_numbers))\r\n",
        "      print(len(comb))\r\n",
        "      found_size = len(comb)\r\n",
        "      break\r\n",
        "\r\n",
        "  if(found_size != -1): break"
      ],
      "execution_count": 6,
      "outputs": [
        {
          "output_type": "stream",
          "text": [
            "4\n"
          ],
          "name": "stdout"
        }
      ]
    },
    {
      "cell_type": "code",
      "metadata": {
        "colab": {
          "base_uri": "https://localhost:8080/"
        },
        "id": "b6cJXuY95All",
        "outputId": "1de0bea5-1a35-4a09-a3d1-4e28808a0247"
      },
      "source": [
        "from functools import reduce\r\n",
        "qes = []\r\n",
        "combs = combinations(data, found_size)\r\n",
        "for comb in combs:\r\n",
        "    if sum(comb) == bucket_size:\r\n",
        "      qe = reduce(lambda x, y: x * y, comb)\r\n",
        "      qes.append(qe)\r\n",
        "\r\n",
        "min(qes)"
      ],
      "execution_count": 7,
      "outputs": [
        {
          "output_type": "execute_result",
          "data": {
            "text/plain": [
              "74850409"
            ]
          },
          "metadata": {
            "tags": []
          },
          "execution_count": 7
        }
      ]
    },
    {
      "cell_type": "code",
      "metadata": {
        "id": "81419L-J5B7D"
      },
      "source": [
        ""
      ],
      "execution_count": 7,
      "outputs": []
    }
  ]
}