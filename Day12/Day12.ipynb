{
  "nbformat": 4,
  "nbformat_minor": 0,
  "metadata": {
    "colab": {
      "name": "Day12.ipynb",
      "provenance": [],
      "collapsed_sections": [],
      "toc_visible": true
    },
    "kernelspec": {
      "name": "python3",
      "display_name": "Python 3"
    }
  },
  "cells": [
    {
      "cell_type": "markdown",
      "metadata": {
        "id": "SoX-oyVqmnSY"
      },
      "source": [
        "# Advent of Code 2015 - Day 12"
      ]
    },
    {
      "cell_type": "markdown",
      "metadata": {
        "id": "QNmm3RyX_DO4"
      },
      "source": [
        "## Part 1"
      ]
    },
    {
      "cell_type": "code",
      "metadata": {
        "id": "TCZ3w2pGdrJl"
      },
      "source": [
        "import json\r\n",
        "\r\n",
        "data = {}\r\n",
        "with open('inputs_day_12.json') as f:\r\n",
        "  data = json.load(f)"
      ],
      "execution_count": 1,
      "outputs": []
    },
    {
      "cell_type": "code",
      "metadata": {
        "colab": {
          "base_uri": "https://localhost:8080/"
        },
        "id": "_RXQn1IgeHSl",
        "outputId": "7268c2cc-fbe2-482e-b685-261f2925eee2"
      },
      "source": [
        "\r\n",
        "def sum_all_nums(obj):\r\n",
        "\r\n",
        "  if type(obj) == int:\r\n",
        "    return obj\r\n",
        "\r\n",
        "  elif type(obj) == dict: # Objects\r\n",
        "    results = 0\r\n",
        "    for key in obj.keys():\r\n",
        "      results += sum_all_nums(obj[key])\r\n",
        "    return results\r\n",
        "\r\n",
        "  elif type(obj) == list: # Arrays\r\n",
        "    results = 0\r\n",
        "    for i in obj:\r\n",
        "      results += sum_all_nums(i)\r\n",
        "    return results\r\n",
        "\r\n",
        "  else:\r\n",
        "    return 0\r\n",
        "\r\n",
        "sum_all_nums(data)"
      ],
      "execution_count": 2,
      "outputs": [
        {
          "output_type": "execute_result",
          "data": {
            "text/plain": [
              "111754"
            ]
          },
          "metadata": {
            "tags": []
          },
          "execution_count": 2
        }
      ]
    },
    {
      "cell_type": "markdown",
      "metadata": {
        "id": "7voxAOQsAAez"
      },
      "source": [
        "## Part 2"
      ]
    },
    {
      "cell_type": "code",
      "metadata": {
        "id": "4w0dJT4ocf95",
        "colab": {
          "base_uri": "https://localhost:8080/"
        },
        "outputId": "0a808d22-c173-45c8-bf82-561ce87f8058"
      },
      "source": [
        "def sum_all_nums(obj):\r\n",
        "\r\n",
        "  if type(obj) == int:\r\n",
        "    return obj\r\n",
        "\r\n",
        "  elif type(obj) == dict: # Objects\r\n",
        "    results = 0\r\n",
        "    if not 'red' in obj.values(): # Do not count\r\n",
        "      for key in obj.keys():\r\n",
        "        results += sum_all_nums(obj[key])\r\n",
        "    return results\r\n",
        "\r\n",
        "  elif type(obj) == list: # Arrays\r\n",
        "    results = 0\r\n",
        "    for i in obj:\r\n",
        "      results += sum_all_nums(i)\r\n",
        "    return results\r\n",
        "\r\n",
        "  else:\r\n",
        "    return 0\r\n",
        "\r\n",
        "sum_all_nums(data)"
      ],
      "execution_count": 3,
      "outputs": [
        {
          "output_type": "execute_result",
          "data": {
            "text/plain": [
              "65402"
            ]
          },
          "metadata": {
            "tags": []
          },
          "execution_count": 3
        }
      ]
    }
  ]
}