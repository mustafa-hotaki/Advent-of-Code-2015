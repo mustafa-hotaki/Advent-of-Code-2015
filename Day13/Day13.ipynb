{
  "nbformat": 4,
  "nbformat_minor": 0,
  "metadata": {
    "colab": {
      "name": "Day13.ipynb",
      "provenance": [],
      "collapsed_sections": [],
      "toc_visible": true
    },
    "kernelspec": {
      "name": "python3",
      "display_name": "Python 3"
    }
  },
  "cells": [
    {
      "cell_type": "markdown",
      "metadata": {
        "id": "zeOgvx3mmo2K"
      },
      "source": [
        "# Advent of Code 2015 - Day 13"
      ]
    },
    {
      "cell_type": "code",
      "metadata": {
        "id": "1mqqfpVRmo8Q",
        "colab": {
          "base_uri": "https://localhost:8080/"
        },
        "outputId": "97ae5440-41d2-4b72-95e1-532d86bb30be"
      },
      "source": [
        "data = []\r\n",
        "with open(\"inputs_day_13.txt\", \"r\") as f:\r\n",
        "  for line in f:\r\n",
        "    data.append(line.strip())\r\n",
        "\r\n",
        "print('First 2 data points:', data[:2])\r\n",
        "print('Number of data points:', len(data))"
      ],
      "execution_count": null,
      "outputs": [
        {
          "output_type": "stream",
          "text": [
            "First 2 data points: ['Alice would gain 54 happiness units by sitting next to Bob.', 'Alice would lose 81 happiness units by sitting next to Carol.']\n",
            "Number of data points: 56\n"
          ],
          "name": "stdout"
        }
      ]
    },
    {
      "cell_type": "code",
      "metadata": {
        "colab": {
          "base_uri": "https://localhost:8080/"
        },
        "id": "RAtM4vRd3I8_",
        "outputId": "f04f6b9b-73e2-474d-ec81-bf20aaba5404"
      },
      "source": [
        "# Parse\r\n",
        "relations = {}\r\n",
        "people = set()\r\n",
        "for line in data:\r\n",
        "  broken_line = line[:-1].split(' ')\r\n",
        "  sign = -1 if broken_line[2] == 'lose' else 1\r\n",
        "  relations[(broken_line[0], broken_line[-1])] = sign*int(broken_line[3])\r\n",
        "  people.add(broken_line[0])\r\n",
        "  people.add(broken_line[-1])\r\n",
        "\r\n",
        "print(people)\r\n",
        "print(relations)"
      ],
      "execution_count": null,
      "outputs": [
        {
          "output_type": "stream",
          "text": [
            "{'Carol', 'David', 'George', 'Frank', 'Bob', 'Alice', 'Eric', 'Mallory'}\n",
            "{('Alice', 'Bob'): 54, ('Alice', 'Carol'): -81, ('Alice', 'David'): -42, ('Alice', 'Eric'): 89, ('Alice', 'Frank'): -89, ('Alice', 'George'): 97, ('Alice', 'Mallory'): -94, ('Bob', 'Alice'): 3, ('Bob', 'Carol'): -70, ('Bob', 'David'): -31, ('Bob', 'Eric'): 72, ('Bob', 'Frank'): -25, ('Bob', 'George'): -95, ('Bob', 'Mallory'): 11, ('Carol', 'Alice'): -83, ('Carol', 'Bob'): 8, ('Carol', 'David'): 35, ('Carol', 'Eric'): 10, ('Carol', 'Frank'): 61, ('Carol', 'George'): 10, ('Carol', 'Mallory'): 29, ('David', 'Alice'): 67, ('David', 'Bob'): 25, ('David', 'Carol'): 48, ('David', 'Eric'): -65, ('David', 'Frank'): 8, ('David', 'George'): 84, ('David', 'Mallory'): 9, ('Eric', 'Alice'): -51, ('Eric', 'Bob'): -39, ('Eric', 'Carol'): 84, ('Eric', 'David'): -98, ('Eric', 'Frank'): -20, ('Eric', 'George'): -6, ('Eric', 'Mallory'): 60, ('Frank', 'Alice'): 51, ('Frank', 'Bob'): 79, ('Frank', 'Carol'): 88, ('Frank', 'David'): 33, ('Frank', 'Eric'): 43, ('Frank', 'George'): 77, ('Frank', 'Mallory'): -3, ('George', 'Alice'): -14, ('George', 'Bob'): -12, ('George', 'Carol'): -52, ('George', 'David'): 14, ('George', 'Eric'): -62, ('George', 'Frank'): -18, ('George', 'Mallory'): -17, ('Mallory', 'Alice'): -36, ('Mallory', 'Bob'): 76, ('Mallory', 'Carol'): -34, ('Mallory', 'David'): 37, ('Mallory', 'Eric'): 40, ('Mallory', 'Frank'): 18, ('Mallory', 'George'): 7}\n"
          ],
          "name": "stdout"
        }
      ]
    },
    {
      "cell_type": "markdown",
      "metadata": {
        "id": "RSz-xwQIYfN6"
      },
      "source": [
        "## Part 1"
      ]
    },
    {
      "cell_type": "code",
      "metadata": {
        "colab": {
          "base_uri": "https://localhost:8080/"
        },
        "id": "ZblL_3yD4g8b",
        "outputId": "d8002b1c-cb0e-4354-ad22-0210c1f29f10"
      },
      "source": [
        "from itertools import permutations\r\n",
        "\r\n",
        "# This is not efficient\r\n",
        "# Some repeated work (rotations of the permutations need not be checked)\r\n",
        "paths = permutations(people, len(people))\r\n",
        "\r\n",
        "happiness_vector = []\r\n",
        "for path in paths:\r\n",
        "  path_circular = list(path) + [path[0]] # Add a copy of the first element to the end\r\n",
        "  bigrams = [bg for bg in zip(path_circular[:-1], path_circular[1:])] \r\n",
        "  #print(path)\r\n",
        "  #print(bigrams)\r\n",
        "\r\n",
        "  net_happiness = 0\r\n",
        "  for bg in bigrams:\r\n",
        "    happiness = relations[bg] + relations[bg[::-1]] # happiness of both (a, b) and (b, a)\r\n",
        "    net_happiness += happiness\r\n",
        "\r\n",
        "  happiness_vector.append(net_happiness)\r\n",
        "\r\n",
        "print(max(happiness_vector))\r\n"
      ],
      "execution_count": null,
      "outputs": [
        {
          "output_type": "stream",
          "text": [
            "709\n"
          ],
          "name": "stdout"
        }
      ]
    },
    {
      "cell_type": "markdown",
      "metadata": {
        "id": "T653ee66YgYb"
      },
      "source": [
        "## Part 2"
      ]
    },
    {
      "cell_type": "code",
      "metadata": {
        "id": "Gg1M2Ie27s3X"
      },
      "source": [
        "for person in people:\r\n",
        "  relations[('Mustafa', person)] = 0\r\n",
        "  relations[(person, 'Mustafa')] = 0\r\n",
        "people.add('Mustafa')\r\n"
      ],
      "execution_count": null,
      "outputs": []
    },
    {
      "cell_type": "code",
      "metadata": {
        "id": "BgSrgecDkX0o",
        "colab": {
          "base_uri": "https://localhost:8080/"
        },
        "outputId": "984e41b4-ba38-40d2-b85b-c3a55cad3f65"
      },
      "source": [
        "from itertools import permutations\r\n",
        "\r\n",
        "paths = permutations(people, len(people))\r\n",
        "\r\n",
        "happiness_vector = []\r\n",
        "for path in paths:\r\n",
        "  path_circular = list(path) + [path[0]] # Add a copy of the first element to the end\r\n",
        "  bigrams = [bg for bg in zip(path_circular[:-1], path_circular[1:])] \r\n",
        "  #print(path)\r\n",
        "  #print(bigrams)\r\n",
        "\r\n",
        "  net_happiness = 0\r\n",
        "  for bg in bigrams:\r\n",
        "    happiness = relations[bg] + relations[bg[::-1]] # happiness of both (a, b) and (b, a)\r\n",
        "    net_happiness += happiness\r\n",
        "\r\n",
        "  happiness_vector.append(net_happiness)\r\n",
        "\r\n",
        "print(max(happiness_vector))\r\n"
      ],
      "execution_count": null,
      "outputs": [
        {
          "output_type": "stream",
          "text": [
            "668\n"
          ],
          "name": "stdout"
        }
      ]
    },
    {
      "cell_type": "code",
      "metadata": {
        "id": "rrhO2XQx8QXx"
      },
      "source": [
        ""
      ],
      "execution_count": null,
      "outputs": []
    }
  ]
}