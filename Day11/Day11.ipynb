{
  "nbformat": 4,
  "nbformat_minor": 0,
  "metadata": {
    "colab": {
      "name": "Day11.ipynb",
      "provenance": [],
      "collapsed_sections": [],
      "toc_visible": true
    },
    "kernelspec": {
      "name": "python3",
      "display_name": "Python 3"
    }
  },
  "cells": [
    {
      "cell_type": "markdown",
      "metadata": {
        "id": "SoX-oyVqmnSY"
      },
      "source": [
        "# Advent of Code 2015 - Day 11\r\n"
      ]
    },
    {
      "cell_type": "markdown",
      "metadata": {
        "id": "QNmm3RyX_DO4"
      },
      "source": [
        "## Part 1"
      ]
    },
    {
      "cell_type": "code",
      "metadata": {
        "id": "4EB5EtcaWqLW"
      },
      "source": [
        "# Give a string, return true if it includes one increasing straight of at least three letters. Like abc, bcd, ..., xyz.\r\n",
        "from string import ascii_lowercase\r\n",
        "\r\n",
        "def includes_three_increasing(string):\r\n",
        "  increasing_threes = [ascii_lowercase[i : i + 3] for i in range(len(ascii_lowercase) - 2)] # contains abc, bcd, cde, ..., xyz.\r\n",
        "  for x in increasing_threes:\r\n",
        "    if x in string:\r\n",
        "      return True\r\n",
        "  return False"
      ],
      "execution_count": 47,
      "outputs": []
    },
    {
      "cell_type": "code",
      "metadata": {
        "id": "IZK2wRJUXw2w"
      },
      "source": [
        "# Given a string, return true if it contains any character in the forbidden iterable\r\n",
        "def forbidden_in_string(string, forbidden):\r\n",
        "  for f in forbidden:\r\n",
        "    if f in string:\r\n",
        "      return True\r\n",
        "  return False"
      ],
      "execution_count": 48,
      "outputs": []
    },
    {
      "cell_type": "code",
      "metadata": {
        "id": "N8N71D1LXfKJ"
      },
      "source": [
        "# Return true if string contains at least two different, non-overlapping pairs of letters, like aa, bb, or zz.\r\n",
        "def contains_at_least_two_pairs(string):\r\n",
        "  i = 0\r\n",
        "  count = 0\r\n",
        "  while(True):\r\n",
        "    if string[i] == string[i + 1]:\r\n",
        "      count += 1\r\n",
        "      i += 2\r\n",
        "    else:\r\n",
        "      i += 1\r\n",
        "\r\n",
        "    if i >= len(string) - 1:\r\n",
        "      break\r\n",
        "\r\n",
        "  return count >= 2"
      ],
      "execution_count": 49,
      "outputs": []
    },
    {
      "cell_type": "code",
      "metadata": {
        "id": "6ZtydJsgZhRI"
      },
      "source": [
        "from string import ascii_lowercase\r\n",
        "\r\n",
        "def increment(password):\r\n",
        "\r\n",
        "  #print(password)\r\n",
        "  new_password = list(password)\r\n",
        "\r\n",
        "  index = len(password) - 1\r\n",
        "  char = password[index]\r\n",
        "  \r\n",
        "  index_increment = ascii_lowercase.index(char) + 1\r\n",
        "  #print('index_increment', index_increment)\r\n",
        "\r\n",
        "  if index_increment < len(ascii_lowercase):\r\n",
        "    new_password[index] = ascii_lowercase[index_increment]\r\n",
        "\r\n",
        "  else: # Need to wrap around\r\n",
        "    new_password[index] = ascii_lowercase[index_increment % len(ascii_lowercase)]\r\n",
        "    new_password[ : index] = increment(password[:-1]) # Recursviely increment the password up to but no including the new character\r\n",
        "\r\n",
        "  return ''.join(new_password)\r\n"
      ],
      "execution_count": 50,
      "outputs": []
    },
    {
      "cell_type": "code",
      "metadata": {
        "colab": {
          "base_uri": "https://localhost:8080/"
        },
        "id": "YWc3uR4FWXQQ",
        "outputId": "abad76ce-36f2-4362-b231-20bdc0a2fbb1"
      },
      "source": [
        "expired_password = 'vzbxkghb'\r\n",
        "prev = expired_password\r\n",
        "while(True):\r\n",
        "  new = increment(prev)\r\n",
        "  #print(new)\r\n",
        "  if includes_three_increasing(new) and not forbidden_in_string(new, ['i', 'o', 'l']) and contains_at_least_two_pairs(new):\r\n",
        "    print(new)\r\n",
        "    break\r\n",
        "\r\n",
        "  prev = new"
      ],
      "execution_count": 51,
      "outputs": [
        {
          "output_type": "stream",
          "text": [
            "vzbxxyzz\n"
          ],
          "name": "stdout"
        }
      ]
    },
    {
      "cell_type": "markdown",
      "metadata": {
        "id": "7voxAOQsAAez"
      },
      "source": [
        "## Part 2"
      ]
    },
    {
      "cell_type": "code",
      "metadata": {
        "id": "tpeLw1lMUQ4b",
        "colab": {
          "base_uri": "https://localhost:8080/"
        },
        "outputId": "bb5aae48-a4d4-4ee1-b4b6-a29b849693b8"
      },
      "source": [
        "expired_password = 'vzbxxyzz'\r\n",
        "prev = expired_password\r\n",
        "while(True):\r\n",
        "  new = increment(prev)\r\n",
        "  #print(new)\r\n",
        "  if includes_three_increasing(new) and not forbidden_in_string(new, ['i', 'o', 'l']) and contains_at_least_two_pairs(new):\r\n",
        "    print(new)\r\n",
        "    break\r\n",
        "\r\n",
        "  prev = new"
      ],
      "execution_count": 52,
      "outputs": [
        {
          "output_type": "stream",
          "text": [
            "vzcaabcc\n"
          ],
          "name": "stdout"
        }
      ]
    },
    {
      "cell_type": "code",
      "metadata": {
        "id": "4w0dJT4ocf95"
      },
      "source": [
        ""
      ],
      "execution_count": null,
      "outputs": []
    }
  ]
}