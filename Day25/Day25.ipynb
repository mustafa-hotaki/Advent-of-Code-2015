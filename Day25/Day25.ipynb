{
  "nbformat": 4,
  "nbformat_minor": 0,
  "metadata": {
    "colab": {
      "name": "Day25.ipynb",
      "provenance": [],
      "collapsed_sections": [],
      "toc_visible": true
    },
    "kernelspec": {
      "name": "python3",
      "display_name": "Python 3"
    }
  },
  "cells": [
    {
      "cell_type": "markdown",
      "metadata": {
        "id": "zeOgvx3mmo2K"
      },
      "source": [
        "# Advent of Code 2015 - Day 25"
      ]
    },
    {
      "cell_type": "code",
      "metadata": {
        "id": "1mqqfpVRmo8Q",
        "colab": {
          "base_uri": "https://localhost:8080/"
        },
        "outputId": "641ba48e-3fa7-4c94-8914-20eb6dcb0269"
      },
      "source": [
        "data = []\r\n",
        "with open(\"inputs_day_25.txt\", \"r\") as f:\r\n",
        "  for line in f:\r\n",
        "    data.append(line.strip())\r\n",
        "\r\n",
        "print(data)\r\n",
        "print(len(data))"
      ],
      "execution_count": 2,
      "outputs": [
        {
          "output_type": "stream",
          "text": [
            "['To continue, please consult the code grid in the manual.  Enter the code at row 2947, column 3029.']\n",
            "1\n"
          ],
          "name": "stdout"
        }
      ]
    },
    {
      "cell_type": "code",
      "metadata": {
        "colab": {
          "base_uri": "https://localhost:8080/"
        },
        "id": "DYU2XYsZMCy5",
        "outputId": "bfb2302f-81ee-4f20-ce7e-7b822873d677"
      },
      "source": [
        "row = int(data[0].split(' ')[-3][:-1])\r\n",
        "column = int(data[0].split(' ')[-1][:-1])\r\n",
        "row, column"
      ],
      "execution_count": 3,
      "outputs": [
        {
          "output_type": "execute_result",
          "data": {
            "text/plain": [
              "(2947, 3029)"
            ]
          },
          "metadata": {
            "tags": []
          },
          "execution_count": 3
        }
      ]
    },
    {
      "cell_type": "markdown",
      "metadata": {
        "id": "RSz-xwQIYfN6"
      },
      "source": [
        "## Part 1\r\n",
        "\r\n",
        "As remarked, the indexing is similar to [Cantor's diagonal argument](https://en.wikipedia.org/wiki/Cantor%27s_diagonal_argument) (I should have paid more attention to CS 2102).\r\n"
      ]
    },
    {
      "cell_type": "code",
      "metadata": {
        "colab": {
          "base_uri": "https://localhost:8080/"
        },
        "id": "r2cvylsiiUwW",
        "outputId": "04a80435-dd45-4470-bfdc-fff8032f7629"
      },
      "source": [
        "code = 20151125\r\n",
        "count = 0\r\n",
        "i = 0\r\n",
        "found = -1\r\n",
        "while(True):\r\n",
        "\r\n",
        "  x = i\r\n",
        "  y = 0\r\n",
        "\r\n",
        "  for diagonal_count in range(i + 1):\r\n",
        "    \r\n",
        "    #print((x + 1, y + 1), count + 1, code)\r\n",
        "\r\n",
        "    if x == row - 1 and y == column - 1:\r\n",
        "      print('Found', code)\r\n",
        "      found = code\r\n",
        "      break\r\n",
        "\r\n",
        "    code = (code * 252533 ) % 33554393\r\n",
        "\r\n",
        "    count += 1\r\n",
        "    x -= 1\r\n",
        "    y += 1\r\n",
        "\r\n",
        "  i += 1\r\n",
        "\r\n",
        "  if found != -1:\r\n",
        "    break\r\n"
      ],
      "execution_count": 19,
      "outputs": [
        {
          "output_type": "stream",
          "text": [
            "Found 19980801\n"
          ],
          "name": "stdout"
        }
      ]
    },
    {
      "cell_type": "markdown",
      "metadata": {
        "id": "deZjlZGSmStK"
      },
      "source": [
        "The above works, but I am not the biggest fan of the approach. Is there a way to convert an index i.e., the $i$th element in the sequence to a coordinate in constant time rather than computing it by following the diagonals? I need to study the pattern a bit more. "
      ]
    },
    {
      "cell_type": "code",
      "metadata": {
        "id": "Bzb_CYajmqDO"
      },
      "source": [
        ""
      ],
      "execution_count": null,
      "outputs": []
    }
  ]
}