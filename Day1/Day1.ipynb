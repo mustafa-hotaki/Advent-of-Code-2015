{
 "cells": [
  {
   "cell_type": "code",
   "execution_count": 2,
   "metadata": {
    "executionInfo": {
     "elapsed": 468,
     "status": "ok",
     "timestamp": 1609289601867,
     "user": {
      "displayName": "Mustafa Hotaki",
      "photoUrl": "https://lh3.googleusercontent.com/a-/AOh14GioPIBLHP3-lIXdADgh1kBK7NekLeMTGX9hTfuUgA=s64",
      "userId": "09161953873585353244"
     },
     "user_tz": 300
    },
    "id": "JHv4DYuzfujb"
   },
   "outputs": [],
   "source": [
    "data = []\n",
    "with open('inputs_day_1.txt', 'r') as f:\n",
    "  data = f.readlines()"
   ]
  },
  {
   "cell_type": "markdown",
   "metadata": {
    "id": "pEfwbZdliw_o"
   },
   "source": [
    "## Part 1"
   ]
  },
  {
   "cell_type": "code",
   "execution_count": 3,
   "metadata": {
    "colab": {
     "base_uri": "https://localhost:8080/"
    },
    "executionInfo": {
     "elapsed": 382,
     "status": "ok",
     "timestamp": 1609290034318,
     "user": {
      "displayName": "Mustafa Hotaki",
      "photoUrl": "https://lh3.googleusercontent.com/a-/AOh14GioPIBLHP3-lIXdADgh1kBK7NekLeMTGX9hTfuUgA=s64",
      "userId": "09161953873585353244"
     },
     "user_tz": 300
    },
    "id": "X_cQsmB1IqAJ",
    "outputId": "7fa60c64-e424-4cad-8db9-a95eeae432c5"
   },
   "outputs": [
    {
     "data": {
      "text/plain": [
       "138"
      ]
     },
     "execution_count": 3,
     "metadata": {},
     "output_type": "execute_result"
    }
   ],
   "source": [
    "instructions = data[0]\n",
    "floor = 0\n",
    "for i in instructions:\n",
    "  floor += 1 if i == '(' else -1\n",
    "floor"
   ]
  },
  {
   "cell_type": "markdown",
   "metadata": {
    "id": "72sYX5ydgYg8"
   },
   "source": [
    "## Part 2"
   ]
  },
  {
   "cell_type": "code",
   "execution_count": 4,
   "metadata": {
    "colab": {
     "base_uri": "https://localhost:8080/"
    },
    "executionInfo": {
     "elapsed": 362,
     "status": "ok",
     "timestamp": 1609290045269,
     "user": {
      "displayName": "Mustafa Hotaki",
      "photoUrl": "https://lh3.googleusercontent.com/a-/AOh14GioPIBLHP3-lIXdADgh1kBK7NekLeMTGX9hTfuUgA=s64",
      "userId": "09161953873585353244"
     },
     "user_tz": 300
    },
    "id": "G1Hcyg-4gYnK",
    "outputId": "df249612-d741-4a7d-b956-30bf438b8139"
   },
   "outputs": [
    {
     "name": "stdout",
     "output_type": "stream",
     "text": [
      "1771\n"
     ]
    }
   ],
   "source": [
    "floor = 0\n",
    "for c, i in enumerate(instructions):\n",
    "  floor += 1 if i == '(' else -1\n",
    "  if floor == -1:\n",
    "    print(c + 1)\n",
    "    break"
   ]
  },
  {
   "cell_type": "code",
   "execution_count": null,
   "metadata": {
    "id": "vSMK1WUEq5Kd"
   },
   "outputs": [],
   "source": []
  }
 ],
 "metadata": {
  "colab": {
   "authorship_tag": "ABX9TyPTm5Wydgt82pGzZvEsxJOb",
   "name": "AoC2015-Day1.ipynb",
   "provenance": []
  },
  "kernelspec": {
   "display_name": "Python 3",
   "language": "python",
   "name": "python3"
  }
 },
 "nbformat": 4,
 "nbformat_minor": 1
}
