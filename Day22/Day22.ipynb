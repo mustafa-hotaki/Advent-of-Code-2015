{
  "nbformat": 4,
  "nbformat_minor": 0,
  "metadata": {
    "colab": {
      "name": "Day22.ipynb",
      "provenance": [],
      "collapsed_sections": [],
      "toc_visible": true
    },
    "kernelspec": {
      "name": "python3",
      "display_name": "Python 3"
    }
  },
  "cells": [
    {
      "cell_type": "markdown",
      "metadata": {
        "id": "zeOgvx3mmo2K"
      },
      "source": [
        "# Advent of Code 2015 - Day 22\r\n",
        "\r\n",
        "This was one of the more interesting problems. I did have to consult Reddit for some hints. I finally wrote a brute-force recursive solution. \r\n",
        "\r\n",
        "I kept a list of winning costs, and skipped games that accrued more mana than a won game that cost less. To manage complexity, I capture the game state in an object (a la JavaScript rather than defining a class) and pass it to functions that modify it.\r\n",
        "\r\n",
        "This could probably be made much more efficient by casting the problem as a shortest path problem and solving by Dijkstra's algorithm."
      ]
    },
    {
      "cell_type": "code",
      "metadata": {
        "id": "pHXX0kWL8IPm"
      },
      "source": [
        "Spells = {\r\n",
        "  'Magic Missile' : 53,\r\n",
        "  'Drain' : 73,\r\n",
        "  'Shield' : 113,\r\n",
        "  'Poison' : 173,\r\n",
        "  'Recharge' :  229,\r\n",
        "}\r\n",
        "\r\n",
        "Effects = ['Shield', 'Poison', 'Recharge']"
      ],
      "execution_count": 1,
      "outputs": []
    },
    {
      "cell_type": "markdown",
      "metadata": {
        "id": "RSz-xwQIYfN6"
      },
      "source": [
        "## Part 1"
      ]
    },
    {
      "cell_type": "code",
      "metadata": {
        "id": "5JXrys75JL4n"
      },
      "source": [
        "import copy\r\n",
        "\r\n",
        "def Player_Tick(GS, Spell, Hard = False):\r\n",
        "\r\n",
        "  Game_State = copy.deepcopy(GS)\r\n",
        "\r\n",
        "  if Hard:\r\n",
        "    Game_State['Player']['Hit Points'] -= 1\r\n",
        "    if Game_State['Boss']['Hit Points'] <= 0:\r\n",
        "      Game_State['Status'] = 'Player Won'\r\n",
        "      return Game_State\r\n",
        "    if Game_State['Player']['Hit Points'] <= 0:\r\n",
        "      Game_State['Status'] = 'Player Lost'\r\n",
        "      return Game_State\r\n",
        "\r\n",
        "  # If given spell is an \"effective\" active spell\r\n",
        "  if Spell in Effects:\r\n",
        "    if Game_State['Effects'][Spell] > 1:\r\n",
        "      Game_State['Status'] = 'Player Lost' # Technically, the player does not lose, the move is forbidden\r\n",
        "      return Game_State\r\n",
        "\r\n",
        "  # If we cannot afford given spell\r\n",
        "  if Spells[Spell] > Game_State['Player']['Mana']:\r\n",
        "    Game_State['Status'] = 'Player Lost'\r\n",
        "    return Game_State\r\n",
        "  \r\n",
        "  # Apply effects\r\n",
        "  for effect in Game_State['Effects']:\r\n",
        "    if Game_State['Effects'][effect]:\r\n",
        "      Game_State['Effects'][effect] -= 1\r\n",
        "\r\n",
        "      if effect == 'Shield':\r\n",
        "        if Game_State['Effects'][effect] == 0:\r\n",
        "          Game_State['Player']['Armor'] -= 7\r\n",
        "      \r\n",
        "      elif effect == 'Poison':\r\n",
        "        Game_State['Boss']['Hit Points'] -= 3\r\n",
        "\r\n",
        "      elif effect == 'Recharge':\r\n",
        "        Game_State['Player']['Mana'] += 101\r\n",
        "\r\n",
        "\r\n",
        "  # Check won loss due to effects\r\n",
        "  if Game_State['Boss']['Hit Points'] <= 0:\r\n",
        "    Game_State['Status'] = 'Player Won'\r\n",
        "    return Game_State\r\n",
        "  if Game_State['Player']['Hit Points'] <= 0:\r\n",
        "    Game_State['Status'] = 'Player Lost'\r\n",
        "    return Game_State\r\n",
        "\r\n",
        "  # Apply Current Spell\r\n",
        "  if Spell == 'Magic Missile':\r\n",
        "    Game_State['Player']['Mana'] -= Spells[Spell]\r\n",
        "    Game_State['Boss']['Hit Points'] -= 4\r\n",
        "\r\n",
        "  elif Spell == 'Drain':\r\n",
        "    Game_State['Player']['Mana'] -= Spells[Spell]\r\n",
        "    Game_State['Boss']['Hit Points'] -= 2\r\n",
        "    Game_State['Player']['Hit Points'] += 2\r\n",
        "\r\n",
        "  elif Spell == 'Shield':\r\n",
        "    Game_State['Player']['Mana'] -= Spells[Spell]\r\n",
        "    Game_State['Player']['Armor'] += 7\r\n",
        "    Game_State['Effects']['Shield'] = 6\r\n",
        "\r\n",
        "  elif Spell == 'Poison':\r\n",
        "    Game_State['Player']['Mana'] -= Spells[Spell]\r\n",
        "    Game_State['Effects']['Poison'] = 6\r\n",
        "\r\n",
        "  elif Spell == 'Recharge':\r\n",
        "    Game_State['Player']['Mana'] -= Spells[Spell]\r\n",
        "    Game_State['Effects']['Recharge'] = 5\r\n",
        "\r\n",
        "  # Check won loss due to new spells\r\n",
        "  if Game_State['Boss']['Hit Points'] <= 0:\r\n",
        "    Game_State['Status'] = 'Player Won'\r\n",
        "  if Game_State['Player']['Hit Points'] <= 0:\r\n",
        "    Game_State['Status'] = 'Player Lost'\r\n",
        "\r\n",
        "  return Game_State"
      ],
      "execution_count": 2,
      "outputs": []
    },
    {
      "cell_type": "code",
      "metadata": {
        "id": "QrKy59o2ERdg"
      },
      "source": [
        "def Boss_Tick(GS):\r\n",
        "\r\n",
        "  Game_State = copy.deepcopy(GS)\r\n",
        "\r\n",
        "  # Apply effects\r\n",
        "  for effect in Game_State['Effects']:\r\n",
        "    if Game_State['Effects'][effect]:\r\n",
        "      Game_State['Effects'][effect] -= 1\r\n",
        "\r\n",
        "      if effect == 'Shield':\r\n",
        "        if Game_State['Effects'][effect] == 0:\r\n",
        "          Game_State['Player']['Armor'] -= 7\r\n",
        "      \r\n",
        "      elif effect == 'Poison':\r\n",
        "        Game_State['Boss']['Hit Points'] -= 3\r\n",
        "\r\n",
        "      elif effect == 'Recharge':\r\n",
        "        Game_State['Player']['Mana'] += 101\r\n",
        "\r\n",
        "  # Check won loss due to effects\r\n",
        "  if Game_State['Boss']['Hit Points'] <= 0:\r\n",
        "    Game_State['Status'] = 'Player Won'\r\n",
        "    return Game_State\r\n",
        "  if Game_State['Player']['Hit Points'] <= 0:\r\n",
        "    Game_State['Status'] = 'Player Lost'\r\n",
        "    return Game_State\r\n",
        "\r\n",
        "  deal = max(1, Game_State['Boss']['Damage'] - Game_State['Player']['Armor'])\r\n",
        "  Game_State['Player']['Hit Points'] -= deal\r\n",
        "\r\n",
        "  # Check won loss due to boss attack\r\n",
        "  if Game_State['Boss']['Hit Points'] <= 0:\r\n",
        "    Game_State['Status'] = 'Player Won'\r\n",
        "  if Game_State['Player']['Hit Points'] <= 0:\r\n",
        "    Game_State['Status'] = 'Player Lost'\r\n",
        "\r\n",
        "  return Game_State"
      ],
      "execution_count": 3,
      "outputs": []
    },
    {
      "cell_type": "code",
      "metadata": {
        "id": "e-F3n2ipxk2m"
      },
      "source": [
        "# Given a Game State and Spell\r\n",
        "# Player plays a turn\r\n",
        "# If game is not lost/won\r\n",
        "# Boss plays a turn\r\n",
        "# Return new game state\r\n",
        "\r\n",
        "def Tick(GS, Spell, Hardness):\r\n",
        "  Game_State = Player_Tick(GS, Spell, Hardness)\r\n",
        "  if Game_State['Status'] == 'On Going':\r\n",
        "    Game_State = Boss_Tick(Game_State)\r\n",
        "\r\n",
        "  return Game_State"
      ],
      "execution_count": 4,
      "outputs": []
    },
    {
      "cell_type": "code",
      "metadata": {
        "id": "zhxkkxUscWAx"
      },
      "source": [
        "import math\r\n",
        "\r\n",
        "def find_least_mana_to_spend_and_win(GS, depth, money_spent_so_far, hardness, successful):\r\n",
        "\r\n",
        "  results = []\r\n",
        "  for spell in Spells:\r\n",
        "    money_spent = Spells[spell]\r\n",
        "    new_GS = Tick(GS, spell, hardness)\r\n",
        "\r\n",
        "    if new_GS['Status'] == 'Player Won':\r\n",
        "      results.append(money_spent)\r\n",
        "      successful.add(money_spent_so_far + money_spent)\r\n",
        "\r\n",
        "    elif new_GS['Status'] == 'On Going':\r\n",
        "      # Only try if a cheap winning series of moves was not found already\r\n",
        "      if money_spent_so_far + money_spent < min(successful): \r\n",
        "        x = find_least_mana_to_spend_and_win(new_GS, depth + 1, money_spent_so_far + money_spent, hardness, successful)\r\n",
        "        if x:\r\n",
        "          results.append(money_spent + x)\r\n",
        "\r\n",
        "  if results: \r\n",
        "    return min(results)"
      ],
      "execution_count": 5,
      "outputs": []
    },
    {
      "cell_type": "code",
      "metadata": {
        "colab": {
          "base_uri": "https://localhost:8080/"
        },
        "id": "nqkZvQYypsc7",
        "outputId": "342ff2b8-f182-40ae-c1eb-ad70230d3d06"
      },
      "source": [
        "Game_State = {'Player' : {'Hit Points' : 10, 'Armor' : 0, 'Mana' : 250},\r\n",
        "              'Boss' : {'Hit Points' : 13, 'Damage' : 8, 'Armor' : 0},\r\n",
        "              'Effects' : {'Shield' : 0, 'Poison': 0, 'Recharge' : 0},\r\n",
        "              'Status' : 'On Going'}\r\n",
        "\r\n",
        "find_least_mana_to_spend_and_win(Game_State, 0, 0, False, set([math.inf]))"
      ],
      "execution_count": 6,
      "outputs": [
        {
          "output_type": "execute_result",
          "data": {
            "text/plain": [
              "226"
            ]
          },
          "metadata": {
            "tags": []
          },
          "execution_count": 6
        }
      ]
    },
    {
      "cell_type": "code",
      "metadata": {
        "colab": {
          "base_uri": "https://localhost:8080/"
        },
        "id": "toKqWT2GptVZ",
        "outputId": "60389e76-298d-4bd4-f9e5-fd4930427c6c"
      },
      "source": [
        "Game_State = {'Player' : {'Hit Points' : 50, 'Armor' : 0, 'Mana' : 500},\r\n",
        "              'Boss' : {'Hit Points' : 55, 'Damage' : 8, 'Armor' : 0},\r\n",
        "              'Effects' : {'Shield' : 0, 'Poison': 0, 'Recharge' : 0},\r\n",
        "              'Status' : 'On Going'}\r\n",
        "              \r\n",
        "find_least_mana_to_spend_and_win(Game_State, 0, 0, False, set([math.inf]))"
      ],
      "execution_count": 7,
      "outputs": [
        {
          "output_type": "execute_result",
          "data": {
            "text/plain": [
              "953"
            ]
          },
          "metadata": {
            "tags": []
          },
          "execution_count": 7
        }
      ]
    },
    {
      "cell_type": "markdown",
      "metadata": {
        "id": "bUpLpii1a9qW"
      },
      "source": [
        "## Part 2"
      ]
    },
    {
      "cell_type": "code",
      "metadata": {
        "colab": {
          "base_uri": "https://localhost:8080/"
        },
        "id": "946fdmhLlwHy",
        "outputId": "099721de-b969-4fb9-e1ff-44278f1bb0fa"
      },
      "source": [
        "find_least_mana_to_spend_and_win(Game_State, 0, 0, True, set([math.inf]))"
      ],
      "execution_count": 8,
      "outputs": [
        {
          "output_type": "execute_result",
          "data": {
            "text/plain": [
              "1289"
            ]
          },
          "metadata": {
            "tags": []
          },
          "execution_count": 8
        }
      ]
    }
  ]
}