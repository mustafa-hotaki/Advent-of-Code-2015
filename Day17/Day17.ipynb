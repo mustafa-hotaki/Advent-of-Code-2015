{
  "nbformat": 4,
  "nbformat_minor": 0,
  "metadata": {
    "colab": {
      "name": "Day17.ipynb",
      "provenance": [],
      "collapsed_sections": [],
      "toc_visible": true
    },
    "kernelspec": {
      "name": "python3",
      "display_name": "Python 3"
    }
  },
  "cells": [
    {
      "cell_type": "markdown",
      "metadata": {
        "id": "zeOgvx3mmo2K"
      },
      "source": [
        "# Advent of Code 2015 - Day 17"
      ]
    },
    {
      "cell_type": "code",
      "metadata": {
        "id": "1mqqfpVRmo8Q",
        "colab": {
          "base_uri": "https://localhost:8080/"
        },
        "outputId": "5f51be29-0ac4-4192-c3fd-6c1024507028"
      },
      "source": [
        "data = []\r\n",
        "with open(\"inputs_day_17.txt\", \"r\") as f:\r\n",
        "  for line in f:\r\n",
        "    data.append(int(line.strip()))\r\n",
        "\r\n",
        "print('First 2 data points:', data[:2])\r\n",
        "print('Number of data points:', len(data))"
      ],
      "execution_count": 1,
      "outputs": [
        {
          "output_type": "stream",
          "text": [
            "First 2 data points: [50, 44]\n",
            "Number of data points: 20\n"
          ],
          "name": "stdout"
        }
      ]
    },
    {
      "cell_type": "markdown",
      "metadata": {
        "id": "RSz-xwQIYfN6"
      },
      "source": [
        "## Part 1\r\n",
        "\r\n",
        "A brute-force solution does not seem infeasible."
      ]
    },
    {
      "cell_type": "code",
      "metadata": {
        "colab": {
          "base_uri": "https://localhost:8080/"
        },
        "id": "8YVVO9QMtBgO",
        "outputId": "64495fb2-daec-4916-8b52-28dfdb60784a"
      },
      "source": [
        "from itertools import combinations\r\n",
        "\r\n",
        "counter  = 0\r\n",
        "for i in range(len(data)):\r\n",
        "\r\n",
        "  combs = combinations(data, i + 1)\r\n",
        "\r\n",
        "  for comb in combs:\r\n",
        "    if sum(comb) == 150:\r\n",
        "      counter += 1\r\n",
        "\r\n",
        "counter"
      ],
      "execution_count": 2,
      "outputs": [
        {
          "output_type": "execute_result",
          "data": {
            "text/plain": [
              "654"
            ]
          },
          "metadata": {
            "tags": []
          },
          "execution_count": 2
        }
      ]
    },
    {
      "cell_type": "markdown",
      "metadata": {
        "id": "T653ee66YgYb"
      },
      "source": [
        "## Part 2"
      ]
    },
    {
      "cell_type": "code",
      "metadata": {
        "id": "qd3eGiPOrzj-",
        "colab": {
          "base_uri": "https://localhost:8080/"
        },
        "outputId": "b2cc7606-5f22-446e-dbd8-be7b44f2b441"
      },
      "source": [
        "# Find the minimum number of containers that can exactly fit all 150 liters of eggnog.\r\n",
        "from itertools import combinations\r\n",
        "\r\n",
        "counter  = 0\r\n",
        "for i in range(len(data)):\r\n",
        "\r\n",
        "  combs = combinations(data, i + 1)\r\n",
        "\r\n",
        "  for comb in combs:\r\n",
        "    if sum(comb) == 150:\r\n",
        "      counter += 1\r\n",
        "      print(len(comb), comb)\r\n",
        "      break\r\n",
        "\r\n",
        "  if(counter == 1):\r\n",
        "    break\r\n"
      ],
      "execution_count": 3,
      "outputs": [
        {
          "output_type": "stream",
          "text": [
            "4 (50, 44, 49, 7)\n"
          ],
          "name": "stdout"
        }
      ]
    },
    {
      "cell_type": "code",
      "metadata": {
        "colab": {
          "base_uri": "https://localhost:8080/"
        },
        "id": "RTJWlQvBuliB",
        "outputId": "a780e79e-2ffd-42d8-ce51-646aa87f8e14"
      },
      "source": [
        "# How many different ways can you fill that number of containers (found 4) and still hold exactly 150 litres?\r\n",
        "from itertools import combinations\r\n",
        "\r\n",
        "counter  = 0\r\n",
        "combs = combinations(data, 4)\r\n",
        "\r\n",
        "for comb in combs:\r\n",
        "  if sum(comb) == 150:\r\n",
        "    counter += 1\r\n",
        "\r\n",
        "counter"
      ],
      "execution_count": 4,
      "outputs": [
        {
          "output_type": "execute_result",
          "data": {
            "text/plain": [
              "57"
            ]
          },
          "metadata": {
            "tags": []
          },
          "execution_count": 4
        }
      ]
    },
    {
      "cell_type": "code",
      "metadata": {
        "id": "6TLh9vSIvFqN"
      },
      "source": [
        ""
      ],
      "execution_count": 4,
      "outputs": []
    }
  ]
}