{
  "nbformat": 4,
  "nbformat_minor": 0,
  "metadata": {
    "colab": {
      "name": "Day18.ipynb",
      "provenance": [],
      "collapsed_sections": [],
      "toc_visible": true
    },
    "kernelspec": {
      "name": "python3",
      "display_name": "Python 3"
    }
  },
  "cells": [
    {
      "cell_type": "markdown",
      "metadata": {
        "id": "zeOgvx3mmo2K"
      },
      "source": [
        "# Advent of Code 2015 - Day 18"
      ]
    },
    {
      "cell_type": "code",
      "metadata": {
        "id": "1mqqfpVRmo8Q"
      },
      "source": [
        "data = []\r\n",
        "with open(\"inputs_day_18.txt\", \"r\") as f:\r\n",
        "  for line in f:\r\n",
        "    data.append(line.strip())"
      ],
      "execution_count": 1,
      "outputs": []
    },
    {
      "cell_type": "markdown",
      "metadata": {
        "id": "RSz-xwQIYfN6"
      },
      "source": [
        "## Part 1"
      ]
    },
    {
      "cell_type": "code",
      "metadata": {
        "id": "KFb2GpDj_jZ9"
      },
      "source": [
        "# Find neighbors of a cube\r\n",
        "# Give a cube location (i, j, k, ...), it returns a list of all locations \r\n",
        "# where any of their coordinates differ by at most 1.\r\n",
        "def find_neighbors(coordinates):\r\n",
        "\r\n",
        "  def of_bucket(buckets):\r\n",
        "    for bucket_item in buckets[0]:\r\n",
        "      if len(buckets) > 1 :\r\n",
        "        for result in of_bucket(buckets[1:]):\r\n",
        "          yield [bucket_item] + result\r\n",
        "      else:\r\n",
        "        yield [bucket_item]\r\n",
        "\r\n",
        "  buckets = [[coord - 1, coord, coord + 1] for coord in coordinates]\r\n",
        "  neighbor_locations = [tuple(comb) for comb in of_bucket(buckets) if tuple(comb) != coordinates]\r\n",
        "\r\n",
        "  return neighbor_locations"
      ],
      "execution_count": 2,
      "outputs": []
    },
    {
      "cell_type": "code",
      "metadata": {
        "id": "pgBgW6y6-JiJ"
      },
      "source": [
        "import copy\r\n",
        "\r\n",
        "# Create and initialize the 100 by 100 grid\r\n",
        "initial_grid = [list(row) for row in data]\r\n",
        "size = len(initial_grid)\r\n",
        "\r\n",
        "prev = copy.deepcopy(initial_grid)\r\n",
        "for k in range(100):\r\n",
        "  new = copy.deepcopy(prev)\r\n",
        "\r\n",
        "  for i in range(size):\r\n",
        "    for j in range(size):\r\n",
        "      \r\n",
        "      # Count the neighbors that are on\r\n",
        "      neighbors = find_neighbors((i, j))\r\n",
        "      on_neighbor_counter = 0\r\n",
        "      for neighbor in neighbors:\r\n",
        "        # Only consider neighbors that are within the grid\r\n",
        "        if(neighbor[0] >= 0 and neighbor[0] < size and neighbor[1] >= 0 and neighbor[1] < size):\r\n",
        "          if(prev[neighbor[0]][neighbor[1]] == '#'): # if on\r\n",
        "            on_neighbor_counter += 1\r\n",
        "\r\n",
        "      # Turn on/off according to rules\r\n",
        "      if prev[i][j] == '#':\r\n",
        "        if on_neighbor_counter != 2 and on_neighbor_counter != 3:\r\n",
        "          new[i][j] = '.'\r\n",
        "      elif prev[i][j] == '.':\r\n",
        "        if on_neighbor_counter == 3:\r\n",
        "          new[i][j] = '#'\r\n",
        "\r\n",
        "  prev = new"
      ],
      "execution_count": 3,
      "outputs": []
    },
    {
      "cell_type": "code",
      "metadata": {
        "colab": {
          "base_uri": "https://localhost:8080/"
        },
        "id": "OsFWNwi0Fxyg",
        "outputId": "da61f370-22ad-484e-a084-29c1fedc5f54"
      },
      "source": [
        "sum([row.count('#') for row in new])"
      ],
      "execution_count": 4,
      "outputs": [
        {
          "output_type": "execute_result",
          "data": {
            "text/plain": [
              "1061"
            ]
          },
          "metadata": {
            "tags": []
          },
          "execution_count": 4
        }
      ]
    },
    {
      "cell_type": "markdown",
      "metadata": {
        "id": "T653ee66YgYb"
      },
      "source": [
        "## Part 2"
      ]
    },
    {
      "cell_type": "code",
      "metadata": {
        "id": "_0c3Ek9fOIxd"
      },
      "source": [
        "import copy\r\n",
        "\r\n",
        "# Create and initialize the 100 by 100 grid\r\n",
        "initial_grid = [list(row) for row in data]\r\n",
        "size = len(initial_grid)\r\n",
        "\r\n",
        "# Force corners to #\r\n",
        "corners = [(0, 0), (0, size - 1), (size - 1, 0), (size - 1, size - 1)]\r\n",
        "for corner in corners:\r\n",
        "  initial_grid[corner[0]][corner[1]] = '#'\r\n",
        "\r\n",
        "prev = copy.deepcopy(initial_grid)\r\n",
        "for k in range(100):\r\n",
        "  new = copy.deepcopy(prev)\r\n",
        "\r\n",
        "  for i in range(size):\r\n",
        "    for j in range(size):\r\n",
        "\r\n",
        "      if not (i, j) in corners: # Skip if deadlin with corners\r\n",
        "        \r\n",
        "        # Count the neighbors that are on\r\n",
        "        neighbors = find_neighbors((i, j))\r\n",
        "        on_neighbor_counter = 0\r\n",
        "        for neighbor in neighbors:\r\n",
        "          # Only consider neighbors that are within the grid\r\n",
        "          if(neighbor[0] >= 0 and neighbor[0] < size and neighbor[1] >= 0 and neighbor[1] < size):\r\n",
        "            if(prev[neighbor[0]][neighbor[1]] == '#'): # if on\r\n",
        "              on_neighbor_counter += 1\r\n",
        "        \r\n",
        "        # Turn on/off according to rules\r\n",
        "        if prev[i][j] == '#':\r\n",
        "          if on_neighbor_counter != 2 and on_neighbor_counter != 3:\r\n",
        "            new[i][j] = '.'\r\n",
        "        elif prev[i][j] == '.':\r\n",
        "          if on_neighbor_counter == 3:\r\n",
        "            new[i][j] = '#'\r\n",
        "\r\n",
        "  prev = new"
      ],
      "execution_count": 5,
      "outputs": []
    },
    {
      "cell_type": "code",
      "metadata": {
        "id": "6TLh9vSIvFqN",
        "colab": {
          "base_uri": "https://localhost:8080/"
        },
        "outputId": "9ae6cb04-efb3-4352-fbfb-8ad3e7f2a464"
      },
      "source": [
        "sum([row.count('#') for row in new])"
      ],
      "execution_count": 6,
      "outputs": [
        {
          "output_type": "execute_result",
          "data": {
            "text/plain": [
              "1006"
            ]
          },
          "metadata": {
            "tags": []
          },
          "execution_count": 6
        }
      ]
    }
  ]
}