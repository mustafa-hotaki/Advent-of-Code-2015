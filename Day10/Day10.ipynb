{
  "nbformat": 4,
  "nbformat_minor": 0,
  "metadata": {
    "colab": {
      "name": "Day10.ipynb",
      "provenance": [],
      "collapsed_sections": [],
      "toc_visible": true
    },
    "kernelspec": {
      "name": "python3",
      "display_name": "Python 3"
    }
  },
  "cells": [
    {
      "cell_type": "markdown",
      "metadata": {
        "id": "SoX-oyVqmnSY"
      },
      "source": [
        "# Advent of Code 2015 - Day 10\r\n",
        "\r\n",
        "This puzzle is simply the rules from Conwa's [Look-and-say sequence](https://en.wikipedia.org/wiki/Look-and-say_sequence).\r\n"
      ]
    },
    {
      "cell_type": "code",
      "metadata": {
        "id": "nG3QkMzTUqNC"
      },
      "source": [
        "def get_next_in_look_and_say(num):\r\n",
        "  next = \"\"\r\n",
        "  i = 0\r\n",
        "  while(True):\r\n",
        "    element = num[i]\r\n",
        "    count = 1\r\n",
        "    for j in range(i + 1, len(num)):\r\n",
        "      if num[j] == element:\r\n",
        "          count += 1\r\n",
        "      else:\r\n",
        "        break\r\n",
        "    next += str(count) + element\r\n",
        "    i += count\r\n",
        "    if(i >= len(num)): break\r\n",
        "  return next"
      ],
      "execution_count": 1,
      "outputs": []
    },
    {
      "cell_type": "markdown",
      "metadata": {
        "id": "QNmm3RyX_DO4"
      },
      "source": [
        "## Part 1"
      ]
    },
    {
      "cell_type": "code",
      "metadata": {
        "colab": {
          "base_uri": "https://localhost:8080/"
        },
        "id": "9zimjgBL8B6l",
        "outputId": "6e35bfa6-85da-4eb7-be8d-3658b5177af2"
      },
      "source": [
        "import time\r\n",
        "\r\n",
        "start_time = time.time()\r\n",
        "\r\n",
        "prev = '3113322113'\r\n",
        "\r\n",
        "for i in range(40):\r\n",
        "  prev = get_next_in_look_and_say(prev)\r\n",
        "  \r\n",
        "print(len(prev))\r\n",
        "\r\n",
        "print(\"\\nExecution completed in {} seconds.\".format(time.time() - start_time))"
      ],
      "execution_count": 2,
      "outputs": [
        {
          "output_type": "stream",
          "text": [
            "329356\n",
            "\n",
            "Execution completed in 0.7193317413330078 seconds.\n"
          ],
          "name": "stdout"
        }
      ]
    },
    {
      "cell_type": "markdown",
      "metadata": {
        "id": "7voxAOQsAAez"
      },
      "source": [
        "## Part 2"
      ]
    },
    {
      "cell_type": "code",
      "metadata": {
        "colab": {
          "base_uri": "https://localhost:8080/"
        },
        "id": "WPbVND8FAAs9",
        "outputId": "1f99a41a-4256-4e44-d659-f8080909d25e"
      },
      "source": [
        "import time\r\n",
        "\r\n",
        "start_time = time.time()\r\n",
        "\r\n",
        "prev = '3113322113'\r\n",
        "\r\n",
        "for i in range(50):\r\n",
        "  prev = get_next_in_look_and_say(prev)\r\n",
        "\r\n",
        "print(len(prev))\r\n",
        "\r\n",
        "print(\"\\nExecution completed in {} seconds.\".format(time.time() - start_time))"
      ],
      "execution_count": 3,
      "outputs": [
        {
          "output_type": "stream",
          "text": [
            "4666278\n",
            "\n",
            "Execution completed in 9.613830089569092 seconds.\n"
          ],
          "name": "stdout"
        }
      ]
    },
    {
      "cell_type": "code",
      "metadata": {
        "id": "tpeLw1lMUQ4b"
      },
      "source": [
        ""
      ],
      "execution_count": 3,
      "outputs": []
    }
  ]
}