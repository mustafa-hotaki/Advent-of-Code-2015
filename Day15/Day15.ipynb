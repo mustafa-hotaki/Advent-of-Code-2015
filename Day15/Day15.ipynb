{
  "nbformat": 4,
  "nbformat_minor": 0,
  "metadata": {
    "colab": {
      "name": "Day15.ipynb",
      "provenance": [],
      "collapsed_sections": [],
      "toc_visible": true
    },
    "kernelspec": {
      "name": "python3",
      "display_name": "Python 3"
    }
  },
  "cells": [
    {
      "cell_type": "markdown",
      "metadata": {
        "id": "zeOgvx3mmo2K"
      },
      "source": [
        "# Advent of Code 2015 - Day 15"
      ]
    },
    {
      "cell_type": "code",
      "metadata": {
        "id": "1mqqfpVRmo8Q",
        "colab": {
          "base_uri": "https://localhost:8080/"
        },
        "outputId": "39791369-fbbf-4b54-bc18-d38a9cb0109d"
      },
      "source": [
        "data = []\r\n",
        "with open(\"inputs_day_15.txt\", \"r\") as f:\r\n",
        "  for line in f:\r\n",
        "    data.append(line.strip())\r\n",
        "\r\n",
        "print('First 2 data points:', data[:2])\r\n",
        "print('Number of data points:', len(data))"
      ],
      "execution_count": 40,
      "outputs": [
        {
          "output_type": "stream",
          "text": [
            "First 2 data points: ['Sugar: capacity 3, durability 0, flavor 0, texture -3, calories 2', 'Sprinkles: capacity -3, durability 3, flavor 0, texture 0, calories 9']\n",
            "Number of data points: 4\n"
          ],
          "name": "stdout"
        }
      ]
    },
    {
      "cell_type": "code",
      "metadata": {
        "colab": {
          "base_uri": "https://localhost:8080/"
        },
        "id": "Y1eOqV2UIj87",
        "outputId": "4785e1db-637e-4792-eba2-3e71b92ede6e"
      },
      "source": [
        "# Parse\r\n",
        "map = {}\r\n",
        "for x in data:\r\n",
        "  broken = x.split(' ')\r\n",
        "  name = broken[0][:-1]\r\n",
        "  capacity = int(broken[2][:-1])\r\n",
        "  durability = int(broken[4][:-1])\r\n",
        "  flavor = int(broken[6][:-1])\r\n",
        "  texture = int(broken[8][:-1])\r\n",
        "  calories = int(broken[10])\r\n",
        "\r\n",
        "  map[name] = {'capacity' : capacity, \r\n",
        "               'durability' : durability,\r\n",
        "               'flavor': flavor, \r\n",
        "               'texture' : texture,\r\n",
        "               'calories' : calories}\r\n",
        "map"
      ],
      "execution_count": 41,
      "outputs": [
        {
          "output_type": "execute_result",
          "data": {
            "text/plain": [
              "{'Candy': {'calories': 1,\n",
              "  'capacity': -1,\n",
              "  'durability': 0,\n",
              "  'flavor': 4,\n",
              "  'texture': 0},\n",
              " 'Chocolate': {'calories': 8,\n",
              "  'capacity': 0,\n",
              "  'durability': 0,\n",
              "  'flavor': -2,\n",
              "  'texture': 2},\n",
              " 'Sprinkles': {'calories': 9,\n",
              "  'capacity': -3,\n",
              "  'durability': 3,\n",
              "  'flavor': 0,\n",
              "  'texture': 0},\n",
              " 'Sugar': {'calories': 2,\n",
              "  'capacity': 3,\n",
              "  'durability': 0,\n",
              "  'flavor': 0,\n",
              "  'texture': -3}}"
            ]
          },
          "metadata": {
            "tags": []
          },
          "execution_count": 41
        }
      ]
    },
    {
      "cell_type": "markdown",
      "metadata": {
        "id": "RSz-xwQIYfN6"
      },
      "source": [
        "## Part 1\r\n",
        "\r\n",
        "Not a very clean solution. It could likely clean up quite a bit with functional programming tools or some linear algebra library."
      ]
    },
    {
      "cell_type": "code",
      "metadata": {
        "id": "jiabEDNgIebs"
      },
      "source": [
        "# I grabbed this of Stack Overflow (forgot where)\r\n",
        "# Useful utility that generates all tuple of size length that add up to total_sum\r\n",
        "def sums(length, total_sum):\r\n",
        "  if length == 1:\r\n",
        "    yield (total_sum,)\r\n",
        "  else:\r\n",
        "    for value in range(total_sum + 1):\r\n",
        "      for permutation in sums(length - 1, total_sum - value):\r\n",
        "        yield (value,) + permutation"
      ],
      "execution_count": 42,
      "outputs": []
    },
    {
      "cell_type": "code",
      "metadata": {
        "colab": {
          "base_uri": "https://localhost:8080/"
        },
        "id": "9qClCId0Kx7e",
        "outputId": "8ac79eb8-446f-49aa-b47b-728d6fe3b1e3"
      },
      "source": [
        "from functools import reduce\r\n",
        "\r\n",
        "properties = ['capacity', 'durability', 'flavor', 'texture']\r\n",
        "all_coefficients = list(sums(len(map), 100))\r\n",
        "#all_coefficients = [(44, 56)]\r\n",
        "\r\n",
        "scores = []\r\n",
        "for coefficients in all_coefficients:\r\n",
        "\r\n",
        "  # Pluck property values for each ingredient\r\n",
        "  matrix = []\r\n",
        "  for p in properties:\r\n",
        "    P_vector = [map[i][p] for i in map]\r\n",
        "    matrix.append(P_vector)\r\n",
        "\r\n",
        "  #print(matrix)\r\n",
        "\r\n",
        "  # Multiply by coefficients\r\n",
        "  for i, c in enumerate(coefficients):\r\n",
        "    for j in range(len(matrix)):\r\n",
        "      matrix[j][i] *= c\r\n",
        "      \r\n",
        "  # sum rows of matrix\r\n",
        "  components = []\r\n",
        "  for row in matrix:\r\n",
        "    components.append(max(0, sum(row)))\r\n",
        "\r\n",
        "  #print(components)\r\n",
        "\r\n",
        "  product = reduce(lambda x, y: x * y, components)\r\n",
        "  scores.append(product)\r\n",
        "\r\n",
        "  #print(product)\r\n",
        "\r\n",
        "max(scores)"
      ],
      "execution_count": 44,
      "outputs": [
        {
          "output_type": "execute_result",
          "data": {
            "text/plain": [
              "222870"
            ]
          },
          "metadata": {
            "tags": []
          },
          "execution_count": 44
        }
      ]
    },
    {
      "cell_type": "markdown",
      "metadata": {
        "id": "T653ee66YgYb"
      },
      "source": [
        "## Part 2"
      ]
    },
    {
      "cell_type": "code",
      "metadata": {
        "id": "d7teLtZMSQMO",
        "colab": {
          "base_uri": "https://localhost:8080/"
        },
        "outputId": "bf68a6b3-5d48-43ab-8d21-23d548469723"
      },
      "source": [
        "from functools import reduce\r\n",
        "\r\n",
        "properties = ['capacity', 'durability', 'flavor', 'texture']\r\n",
        "all_coefficients = list(sums(len(map), 100))\r\n",
        "#all_coefficients = [(44, 56)]\r\n",
        "\r\n",
        "scores = []\r\n",
        "for coefficients in all_coefficients:\r\n",
        "\r\n",
        "\r\n",
        "  calories = [map[i]['calories'] for i in map]\r\n",
        "\r\n",
        "  #print(calories)\r\n",
        "\r\n",
        "  for i, c in enumerate(coefficients):\r\n",
        "    calories[i] *= c\r\n",
        "\r\n",
        "  #print(calories)\r\n",
        "\r\n",
        "  if(sum(calories) == 500):\r\n",
        "\r\n",
        "\r\n",
        "    # Pluck property values for each ingredient\r\n",
        "    matrix = []\r\n",
        "    for p in properties:\r\n",
        "      P_vector = [map[i][p] for i in map]\r\n",
        "      matrix.append(P_vector)\r\n",
        "\r\n",
        "    #print(matrix)\r\n",
        "\r\n",
        "    # Multiply by coefficients\r\n",
        "    for i, c in enumerate(coefficients):\r\n",
        "      for j in range(len(matrix)):\r\n",
        "        matrix[j][i] *= c\r\n",
        "        \r\n",
        "    # sum rows of matrix\r\n",
        "    components = []\r\n",
        "    for row in matrix:\r\n",
        "      components.append(max(0, sum(row)))\r\n",
        "\r\n",
        "    #print(components)\r\n",
        "\r\n",
        "    product = reduce(lambda x, y: x * y, components)\r\n",
        "    scores.append(product)\r\n",
        "\r\n",
        "    #print(product)\r\n",
        "\r\n",
        "max(scores)"
      ],
      "execution_count": 49,
      "outputs": [
        {
          "output_type": "execute_result",
          "data": {
            "text/plain": [
              "117936"
            ]
          },
          "metadata": {
            "tags": []
          },
          "execution_count": 49
        }
      ]
    },
    {
      "cell_type": "code",
      "metadata": {
        "id": "Th7YCsGwS6QS"
      },
      "source": [
        ""
      ],
      "execution_count": null,
      "outputs": []
    }
  ]
}