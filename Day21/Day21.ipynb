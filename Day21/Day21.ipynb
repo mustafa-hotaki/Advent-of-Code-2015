{
  "nbformat": 4,
  "nbformat_minor": 0,
  "metadata": {
    "colab": {
      "name": "Day21.ipynb",
      "provenance": [],
      "collapsed_sections": [],
      "toc_visible": true
    },
    "kernelspec": {
      "name": "python3",
      "display_name": "Python 3"
    }
  },
  "cells": [
    {
      "cell_type": "markdown",
      "metadata": {
        "id": "zeOgvx3mmo2K"
      },
      "source": [
        "# Advent of Code 2015 - Day 21\r\n",
        "\r\n",
        "This one is tedious. Parsing by hand."
      ]
    },
    {
      "cell_type": "code",
      "metadata": {
        "id": "pHXX0kWL8IPm"
      },
      "source": [
        "Weapons = {\r\n",
        "  'Dagger' : {'Cost': 8, 'Damage' : 4, 'Armor' : 0},\r\n",
        "  'Shortsword' : {'Cost': 10, 'Damage' : 5, 'Armor' : 0},\r\n",
        "  'Warhammer' : {'Cost': 25, 'Damage' : 6, 'Armor' : 0},\r\n",
        "  'Longsword' : {'Cost': 40, 'Damage' : 7, 'Armor' : 0},\r\n",
        "  'Greataxe' : {'Cost': 74, 'Damage' : 8, 'Armor' : 0},\r\n",
        "}\r\n",
        "\r\n",
        "Armor = {\r\n",
        "  'Leather' : {'Cost': 13, 'Damage' : 0, 'Armor' : 1},\r\n",
        "  'Chainmail' : {'Cost': 31, 'Damage' : 0, 'Armor' : 2},\r\n",
        "  'Splintmail' : {'Cost': 53, 'Damage' : 0, 'Armor' : 3},\r\n",
        "  'Bandedmail' : {'Cost': 75, 'Damage' : 0, 'Armor' : 4},\r\n",
        "  'Platemail' : {'Cost': 102, 'Damage' : 0, 'Armor' : 5},\r\n",
        "}\r\n",
        "\r\n",
        "Rings = {\r\n",
        "  'Damage +1' : {'Cost': 25, 'Damage' : 1, 'Armor' : 0},\r\n",
        "  'Damage +2' : {'Cost': 50, 'Damage' : 2, 'Armor' : 0},\r\n",
        "  'Damage +3' : {'Cost': 100, 'Damage' : 3, 'Armor' : 0},\r\n",
        "  'Defense +1' : {'Cost': 20, 'Damage' : 0, 'Armor' : 1},\r\n",
        "  'Defense +2' : {'Cost': 40, 'Damage' : 0, 'Armor' : 2},\r\n",
        "  'Defense +3' : {'Cost': 80, 'Damage' : 0, 'Armor' : 3},\r\n",
        "}"
      ],
      "execution_count": 1,
      "outputs": []
    },
    {
      "cell_type": "markdown",
      "metadata": {
        "id": "RSz-xwQIYfN6"
      },
      "source": [
        "## Part 1 and Part 2"
      ]
    },
    {
      "cell_type": "code",
      "metadata": {
        "colab": {
          "base_uri": "https://localhost:8080/"
        },
        "id": "2BsMzmQQ-9N9",
        "outputId": "a5008091-557a-4926-a1ba-95b12838b6a2"
      },
      "source": [
        "Boss = {'Hit Points' : 12, 'Damage' : 7, 'Armor' : 2}\r\n",
        "Player = {'Hit Points' : 8, 'Damage' : 5, 'Armor' : 5}\r\n",
        "\r\n",
        "def play_game(Player, Boss):\r\n",
        "\r\n",
        "  def attack(attacker, defender):\r\n",
        "    deal = attacker['Damage'] - defender['Armor']\r\n",
        "    defender['Hit Points'] -= max(1, deal)\r\n",
        "\r\n",
        "  i = 0\r\n",
        "  while(True):\r\n",
        "\r\n",
        "    if i % 2 == 0:\r\n",
        "      attack(Player, Boss)\r\n",
        "    else:\r\n",
        "      attack(Boss, Player)\r\n",
        "\r\n",
        "    if Boss['Hit Points'] <= 0:\r\n",
        "      return True\r\n",
        "\r\n",
        "    elif Player['Hit Points'] <= 0:\r\n",
        "      return False\r\n",
        "\r\n",
        "    i += 1\r\n",
        "\r\n",
        "play_game(Player, Boss)"
      ],
      "execution_count": 2,
      "outputs": [
        {
          "output_type": "execute_result",
          "data": {
            "text/plain": [
              "True"
            ]
          },
          "metadata": {
            "tags": []
          },
          "execution_count": 2
        }
      ]
    },
    {
      "cell_type": "code",
      "metadata": {
        "colab": {
          "base_uri": "https://localhost:8080/"
        },
        "id": "qGFl9iaACN-c",
        "outputId": "2ca6162e-7ab7-4cee-a64d-301503c21c9c"
      },
      "source": [
        "from itertools import combinations\r\n",
        "\r\n",
        "# 22 possibilities: 1 no ring, six choose 1 ring, 15 choose two rings\r\n",
        "ring_combs = list(set([comb for comb in combinations(list(Rings.keys()) + [0, 0], 2)]))\r\n",
        "\r\n",
        "buckets = [[i for i in range(1, 6)], \r\n",
        "           [i for i in range(0, 6)],\r\n",
        "           [i for i in range(0, len(ring_combs))]]\r\n",
        "\r\n",
        "def of_bucket(buckets):\r\n",
        "  for bucket_item in buckets[0]:\r\n",
        "    if len(buckets) > 1 :\r\n",
        "      for result in of_bucket(buckets[1:]):\r\n",
        "        yield [bucket_item] + result\r\n",
        "    else:\r\n",
        "      yield [bucket_item]\r\n",
        "\r\n",
        "winning_costs = []\r\n",
        "losing_costs = []\r\n",
        "\r\n",
        "for i, combination in enumerate(of_bucket(buckets)):\r\n",
        "  #print(i, combination)\r\n",
        "\r\n",
        "  Boss = {'Hit Points' : 104, 'Damage' : 8, 'Armor' : 1}\r\n",
        "  Player = {'Hit Points' : 100, 'Damage' : 0, 'Armor' : 0, 'Cost' : 0}\r\n",
        "\r\n",
        "  weapon_key = list(Weapons.keys())[combination[0] - 1]\r\n",
        "  Player['Damage'] = Weapons[weapon_key]['Damage']\r\n",
        "  Player['Armor'] = Weapons[weapon_key]['Armor']\r\n",
        "  Player['Cost'] = Weapons[weapon_key]['Cost']\r\n",
        "\r\n",
        "  # Armor\r\n",
        "  if combination[1] != 0:\r\n",
        "    armor_key = list(Armor.keys())[combination[1] - 1]\r\n",
        "    Player['Damage'] += Armor[armor_key]['Damage']\r\n",
        "    Player['Armor'] += Armor[armor_key]['Armor']\r\n",
        "    Player['Cost'] += Armor[armor_key]['Cost']\r\n",
        "\r\n",
        "  # Ring 1\r\n",
        "  if ring_combs[combination[2]][0] != 0:\r\n",
        "    Player['Damage'] += Rings[ring_combs[combination[2]][0]]['Damage']\r\n",
        "    Player['Armor'] += Rings[ring_combs[combination[2]][0]]['Armor']\r\n",
        "    Player['Cost'] += Rings[ring_combs[combination[2]][0]]['Cost']\r\n",
        "\r\n",
        "  # Ring 2\r\n",
        "  if ring_combs[combination[2]][1] != 0:\r\n",
        "    Player['Damage'] += Rings[ring_combs[combination[2]][1]]['Damage']\r\n",
        "    Player['Armor'] += Rings[ring_combs[combination[2]][1]]['Armor']\r\n",
        "    Player['Cost'] += Rings[ring_combs[combination[2]][1]]['Cost']\r\n",
        "\r\n",
        "  # Now that we have purchased all we need, we can play the game\r\n",
        "  player_wins = play_game(Player, Boss)\r\n",
        "\r\n",
        "  if player_wins:\r\n",
        "    winning_costs.append(Player['Cost'])\r\n",
        "  else:\r\n",
        "    losing_costs.append(Player['Cost'])\r\n",
        "\r\n",
        "min(winning_costs), max(losing_costs)"
      ],
      "execution_count": 3,
      "outputs": [
        {
          "output_type": "execute_result",
          "data": {
            "text/plain": [
              "(78, 148)"
            ]
          },
          "metadata": {
            "tags": []
          },
          "execution_count": 3
        }
      ]
    },
    {
      "cell_type": "code",
      "metadata": {
        "id": "oj-K9PiG9eUZ"
      },
      "source": [
        ""
      ],
      "execution_count": 3,
      "outputs": []
    }
  ]
}