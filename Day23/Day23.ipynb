{
  "nbformat": 4,
  "nbformat_minor": 0,
  "metadata": {
    "colab": {
      "name": "Day23.ipynb",
      "provenance": [],
      "collapsed_sections": [],
      "toc_visible": true
    },
    "kernelspec": {
      "name": "python3",
      "display_name": "Python 3"
    }
  },
  "cells": [
    {
      "cell_type": "markdown",
      "metadata": {
        "id": "zeOgvx3mmo2K"
      },
      "source": [
        "# Advent of Code 2015 - Day 23"
      ]
    },
    {
      "cell_type": "code",
      "metadata": {
        "id": "1mqqfpVRmo8Q"
      },
      "source": [
        "data = []\r\n",
        "with open(\"inputs_day_23.txt\", \"r\") as f:\r\n",
        "  for line in f:\r\n",
        "    data.append(line.strip())"
      ],
      "execution_count": 1,
      "outputs": []
    },
    {
      "cell_type": "code",
      "metadata": {
        "colab": {
          "base_uri": "https://localhost:8080/"
        },
        "id": "HbqLR3R6iwi8",
        "outputId": "8ed3ab5a-e410-4da9-ae04-c573c3e481e6"
      },
      "source": [
        "# Parse\r\n",
        "instructions = []\r\n",
        "for x in data:\r\n",
        "  broken = x.split(' ')\r\n",
        "  opcode = broken[0]\r\n",
        "  operands = []\r\n",
        "  for operand in broken[1 : ]:\r\n",
        "    try: operands.append(int(operand.replace(',', '')))\r\n",
        "    except: operands.append(operand.replace(',', ''))\r\n",
        "\r\n",
        "  instructions.append(tuple([opcode] + operands))\r\n",
        "\r\n",
        "instructions"
      ],
      "execution_count": 2,
      "outputs": [
        {
          "output_type": "execute_result",
          "data": {
            "text/plain": [
              "[('jio', 'a', 22),\n",
              " ('inc', 'a'),\n",
              " ('tpl', 'a'),\n",
              " ('tpl', 'a'),\n",
              " ('tpl', 'a'),\n",
              " ('inc', 'a'),\n",
              " ('tpl', 'a'),\n",
              " ('inc', 'a'),\n",
              " ('tpl', 'a'),\n",
              " ('inc', 'a'),\n",
              " ('inc', 'a'),\n",
              " ('tpl', 'a'),\n",
              " ('inc', 'a'),\n",
              " ('inc', 'a'),\n",
              " ('tpl', 'a'),\n",
              " ('inc', 'a'),\n",
              " ('inc', 'a'),\n",
              " ('tpl', 'a'),\n",
              " ('inc', 'a'),\n",
              " ('inc', 'a'),\n",
              " ('tpl', 'a'),\n",
              " ('jmp', 19),\n",
              " ('tpl', 'a'),\n",
              " ('tpl', 'a'),\n",
              " ('tpl', 'a'),\n",
              " ('tpl', 'a'),\n",
              " ('inc', 'a'),\n",
              " ('inc', 'a'),\n",
              " ('tpl', 'a'),\n",
              " ('inc', 'a'),\n",
              " ('tpl', 'a'),\n",
              " ('inc', 'a'),\n",
              " ('inc', 'a'),\n",
              " ('tpl', 'a'),\n",
              " ('inc', 'a'),\n",
              " ('inc', 'a'),\n",
              " ('tpl', 'a'),\n",
              " ('inc', 'a'),\n",
              " ('tpl', 'a'),\n",
              " ('tpl', 'a'),\n",
              " ('jio', 'a', 8),\n",
              " ('inc', 'b'),\n",
              " ('jie', 'a', 4),\n",
              " ('tpl', 'a'),\n",
              " ('inc', 'a'),\n",
              " ('jmp', 2),\n",
              " ('hlf', 'a'),\n",
              " ('jmp', -7)]"
            ]
          },
          "metadata": {
            "tags": []
          },
          "execution_count": 2
        }
      ]
    },
    {
      "cell_type": "markdown",
      "metadata": {
        "id": "RSz-xwQIYfN6"
      },
      "source": [
        "## Part 1"
      ]
    },
    {
      "cell_type": "code",
      "metadata": {
        "id": "AYmBaX0Kpc4z"
      },
      "source": [
        "def run_computer(instructions, registers, pc, max_ticks = None):\r\n",
        "\r\n",
        "  pc = 0\r\n",
        "  ticks = 0\r\n",
        "\r\n",
        "  while(True):\r\n",
        "\r\n",
        "    if pc < 0 or pc >= len(instructions):\r\n",
        "      break\r\n",
        "\r\n",
        "    ticks += 1\r\n",
        "    instr = instructions[pc]\r\n",
        "    opcode = instr[0]\r\n",
        "\r\n",
        "    if opcode == 'hlf':\r\n",
        "      registers[instr[1]] = int(registers[instr[1]]/2)\r\n",
        "      pc += 1\r\n",
        "\r\n",
        "    elif opcode == 'tpl':\r\n",
        "      registers[instr[1]] *= 3\r\n",
        "      pc += 1\r\n",
        "\r\n",
        "    elif opcode == 'inc':\r\n",
        "      registers[instr[1]] += 1\r\n",
        "      pc += 1\r\n",
        "\r\n",
        "    elif opcode == 'jmp':\r\n",
        "      pc += instr[1]\r\n",
        "\r\n",
        "    elif opcode == 'jie':\r\n",
        "      if registers[instr[1]] % 2 == 0:\r\n",
        "        pc += instr[2]\r\n",
        "      else:\r\n",
        "        pc += 1\r\n",
        "\r\n",
        "    elif opcode == 'jio':\r\n",
        "      if registers[instr[1]] == 1:\r\n",
        "        pc += instr[2]\r\n",
        "      else:\r\n",
        "        pc += 1\r\n",
        "\r\n",
        "    else:\r\n",
        "      raise('Oops')\r\n",
        "\r\n",
        "    if(max_ticks != None):\r\n",
        "      if(ticks >= max_ticks):\r\n",
        "        break\r\n",
        "\r\n",
        "  return ticks"
      ],
      "execution_count": 3,
      "outputs": []
    },
    {
      "cell_type": "code",
      "metadata": {
        "colab": {
          "base_uri": "https://localhost:8080/"
        },
        "id": "sGlE5M1nirSu",
        "outputId": "20f126ee-be69-406d-87e2-46fda74893e5"
      },
      "source": [
        "registers = {'a' : 0, 'b' : 0}\r\n",
        "ticks = run_computer(instructions, registers, 0)\r\n",
        "print('Computer program terminated after {} ticks.'.format(ticks))\r\n",
        "registers"
      ],
      "execution_count": 4,
      "outputs": [
        {
          "output_type": "stream",
          "text": [
            "Computer program terminated after 1484 ticks.\n"
          ],
          "name": "stdout"
        },
        {
          "output_type": "execute_result",
          "data": {
            "text/plain": [
              "{'a': 1, 'b': 255}"
            ]
          },
          "metadata": {
            "tags": []
          },
          "execution_count": 4
        }
      ]
    },
    {
      "cell_type": "markdown",
      "metadata": {
        "id": "T653ee66YgYb"
      },
      "source": [
        "## Part 2"
      ]
    },
    {
      "cell_type": "code",
      "metadata": {
        "colab": {
          "base_uri": "https://localhost:8080/"
        },
        "id": "49q15p9mpQwl",
        "outputId": "2634260f-bc02-42f1-c944-9c0aaaedc4d1"
      },
      "source": [
        "registers = {'a' : 1, 'b' : 0}\r\n",
        "ticks = run_computer(instructions, registers, 0)\r\n",
        "print('Computer program terminated after {} ticks.'.format(ticks))\r\n",
        "registers"
      ],
      "execution_count": 5,
      "outputs": [
        {
          "output_type": "stream",
          "text": [
            "Computer program terminated after 1936 ticks.\n"
          ],
          "name": "stdout"
        },
        {
          "output_type": "execute_result",
          "data": {
            "text/plain": [
              "{'a': 1, 'b': 334}"
            ]
          },
          "metadata": {
            "tags": []
          },
          "execution_count": 5
        }
      ]
    },
    {
      "cell_type": "code",
      "metadata": {
        "id": "wnDmBLD5pSA9"
      },
      "source": [
        ""
      ],
      "execution_count": 5,
      "outputs": []
    }
  ]
}